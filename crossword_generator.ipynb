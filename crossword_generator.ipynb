{
 "cells": [
  {
   "cell_type": "code",
   "execution_count": 1,
   "id": "fb907ef3",
   "metadata": {},
   "outputs": [],
   "source": [
    "import cv2\n",
    "import numpy as np"
   ]
  },
  {
   "cell_type": "code",
   "execution_count": 3,
   "id": "f26493fc",
   "metadata": {},
   "outputs": [
    {
     "name": "stdout",
     "output_type": "stream",
     "text": [
      "['□', '□', '□', '□', '□', '□', '■', '□', '□', '□', '□', '□', '□', '□', '■']\n",
      "['□', '□', '□', '□', '□', '□', '■', '□', '□', '□', '□', '□', '□', '□', '□']\n",
      "['□', '□', '□', '□', '□', '□', '■', '□', '□', '□', '□', '□', '□', '□', '□']\n",
      "['□', '□', '□', '□', '□', '□', '□', '■', '□', '□', '□', '■', '□', '□', '□']\n",
      "['□', '□', '□', '□', '□', '■', '□', '□', '□', '■', '□', '□', '□', '□', '□']\n",
      "['□', '□', '□', '□', '■', '□', '□', '□', '□', '□', '■', '□', '□', '□', '□']\n",
      "['■', '■', '■', '□', '□', '□', '□', '□', '□', '□', '□', '□', '□', '□', '□']\n",
      "['■', '□', '□', '□', '□', '□', '□', '□', '□', '□', '□', '□', '□', '□', '■']\n",
      "['□', '□', '□', '□', '□', '□', '□', '□', '□', '□', '□', '□', '■', '■', '■']\n",
      "['□', '□', '□', '□', '■', '□', '□', '□', '□', '□', '■', '□', '□', '□', '□']\n",
      "['□', '□', '□', '□', '□', '■', '□', '□', '□', '■', '□', '□', '□', '□', '□']\n",
      "['□', '□', '□', '■', '□', '□', '□', '■', '□', '□', '□', '□', '□', '□', '□']\n",
      "['□', '□', '□', '□', '□', '□', '□', '□', '■', '□', '□', '□', '□', '□', '□']\n",
      "['□', '□', '□', '□', '□', '□', '□', '□', '■', '□', '□', '□', '□', '□', '□']\n",
      "['■', '□', '□', '□', '□', '□', '□', '□', '■', '□', '□', '□', '□', '□', '□']\n"
     ]
    }
   ],
   "source": [
    "def divMatrix(matrix, grid_size = 15):\n",
    "    temp_list = []\n",
    "    for i in matrix:\n",
    "        chunk_size = len(i) // grid_size\n",
    "        i = i[:chunk_size * grid_size]\n",
    "        equal_parts = [ i [ k : k + chunk_size ] for k in range(0, len(i), chunk_size)]\n",
    "        avg_list = []\n",
    "        for j in equal_parts:\n",
    "            avg_list.append(np.mean(j))\n",
    "        temp_list.append(avg_list)\n",
    "    #transposing temp_list\n",
    "    cw_grid = [list(row) for row in zip(*temp_list)]\n",
    "    if len(cw_grid[0]) > grid_size:\n",
    "        out = divMatrix(cw_grid)\n",
    "    else:\n",
    "        return cw_grid\n",
    "    threshold = (np.max(image) + np.min(image)) // 2\n",
    "    final = []\n",
    "    for i in out:\n",
    "        row = []\n",
    "        for j in i:\n",
    "            if j > threshold:\n",
    "                row.append('\\u25A1')\n",
    "            else:\n",
    "                row.append('\\u25A0')\n",
    "        final.append(row)\n",
    "    return final\n",
    "\n",
    "if __name__ == '__main__':\n",
    "    image = cv2.imread('./crossword1.jpg', cv2.IMREAD_GRAYSCALE)\n",
    "    output = divMatrix(image)\n",
    "    for i in output:\n",
    "        print(i)"
   ]
  },
  {
   "cell_type": "code",
   "execution_count": null,
   "id": "3bd5015c",
   "metadata": {},
   "outputs": [],
   "source": []
  }
 ],
 "metadata": {
  "kernelspec": {
   "display_name": "Python 3 (ipykernel)",
   "language": "python",
   "name": "python3"
  },
  "language_info": {
   "codemirror_mode": {
    "name": "ipython",
    "version": 3
   },
   "file_extension": ".py",
   "mimetype": "text/x-python",
   "name": "python",
   "nbconvert_exporter": "python",
   "pygments_lexer": "ipython3",
   "version": "3.10.6"
  }
 },
 "nbformat": 4,
 "nbformat_minor": 5
}
